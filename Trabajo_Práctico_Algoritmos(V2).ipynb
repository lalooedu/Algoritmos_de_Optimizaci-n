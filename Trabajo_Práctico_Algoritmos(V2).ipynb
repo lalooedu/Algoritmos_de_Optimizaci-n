{
  "nbformat": 4,
  "nbformat_minor": 0,
  "metadata": {
    "colab": {
      "provenance": [],
      "include_colab_link": true
    },
    "kernelspec": {
      "name": "python3",
      "display_name": "Python 3"
    }
  },
  "cells": [
    {
      "cell_type": "markdown",
      "metadata": {
        "id": "view-in-github",
        "colab_type": "text"
      },
      "source": [
        "<a href=\"https://colab.research.google.com/github/lalooedu/Algoritmos_de_Optimizaci-n/blob/main/Trabajo_Pr%C3%A1ctico_Algoritmos(V2).ipynb\" target=\"_parent\"><img src=\"https://colab.research.google.com/assets/colab-badge.svg\" alt=\"Open In Colab\"/></a>"
      ]
    },
    {
      "cell_type": "markdown",
      "metadata": {
        "id": "hVbXYX-RfPWh"
      },
      "source": [
        "# Algoritmos de optimización - Trabajo Práctico<br>\n",
        "Nombre y Apellidos: Luis Eduardo Azocar Arreaza  <br>\n",
        "Url: https://github.com/lalooedu/Algoritmos_de_Optimizaci-n/blob/main/Trabajo_Pr%C3%A1ctico_Algoritmos(V2).ipynb<br>\n",
        "Google Colab: https://colab.research.google.com/drive/1bY2HSle8-SesLHkUAJA4Vjq9RRVk2KP3#scrollTo=hVbXYX-RfPWh <br>\n",
        "Problema:\n",
        ">1. Sesiones de doblaje <br>\n",
        ">2. Organizar los horarios de partidos de una jornada de La Liga<br>\n",
        ">3. Configuración de Tribunales\n",
        "\n",
        "Descripción del problema:\n",
        "\n",
        "• Se precisa coordinar el doblaje de una película. Los actores del doblaje deben coincidir en las\n",
        "tomas en las que sus personajes aparecen juntos en las diferentes tomas. Los actores de\n",
        "doblaje cobran todos la misma cantidad por cada día que deben desplazarse hasta el estudio de\n",
        "grabación independientemente del número de tomas que se graben. No es posible grabar más\n",
        "de 6 tomas por día. El objetivo es planificar las sesiones por día de manera que el gasto por los\n",
        "servicios de los actores de doblaje sea el menor posible. Los datos son:\n",
        "Número de actores: 10\n",
        "Número de tomas : 30\n",
        "Actores/Tomas : https://bit.ly/36D8IuK\n",
        "- 1 indica que el actor participa en la toma\n",
        "- 0 en caso contrario\n",
        "\n",
        "\n",
        "\n",
        "\n",
        "\n",
        "\n",
        "\n",
        "                                        "
      ]
    },
    {
      "cell_type": "markdown",
      "source": [
        "#Modelo\n",
        "- ¿Como represento el espacio de soluciones?\n",
        "- ¿Cual es la función objetivo?\n",
        "- ¿Como implemento las restricciones?"
      ],
      "metadata": {
        "id": "Sbo9IqQtpaHZ"
      }
    },
    {
      "cell_type": "markdown",
      "source": [],
      "metadata": {
        "id": "67p_vszBposu"
      }
    },
    {
      "cell_type": "markdown",
      "source": [
        "1 - Para el siguiente trabajo nuestra muestra son los dia de filmaciones por los actores, entonces necesitbamos conocer que días de tomas tenian cada uno de estor para intentar minimisar los días de las tomas. Y por esto usamos un algoritmo de problemas de programación lineal entera o PLE ya que nuestras variables tienen valores enteros.\n",
        "\n",
        "El espacio de soluciones está definido por la matriz binaria  x[t,d], siendo:\n",
        "\n",
        "    x[t,d] =1 si la toma se graba en el día\n",
        "    x[t,d]=0 si la toma no se graba en el día\n",
        "\n",
        "Dado que cada toma debe grabarse exactamente una vez, la asignación de valores binarios forma un conjunto de combinaciones discretas, restringidas por las siguientes reglas:\n",
        "\n",
        "Para cada toma es asignado exactamente un día.\n",
        "No se pueden grabar más de 6 tomas en un solo día.\n",
        "Los actores deben coincidir en las tomas que participan (si dos tomas comparten actores, deberían grabarse juntas si es posible).\n",
        "\n",
        "2 - La función objetivo en este problema es minimizar el número total de días utilizados para la grabación del doblaje.\n",
        "\n",
        " Esto significa que estamos sumando todas las variables y[d]:\n",
        " por lo que:\n",
        "\n",
        "    y[d]=1 si el día d es utilizado.\n",
        "    y[d]=0 si el día 𝑑 no se usa.\n",
        "\n",
        "Dado que el solver intentará minimizar esta suma, la solución óptima corresponderá a una planificación donde se utiliza la menor cantidad de días posible sin pasar por alto las restricciones.\n",
        "\n",
        "3 - Para las restricciones aplicamos un poco la misma base de cálculo que anteriormente usamos para la definicion del espacio.\n",
        "\n",
        "    x[t,d] =1 si la toma se graba en el día\n",
        "    x[t,d]=0 si la toma no se graba en el día\n",
        "\n",
        "Solo que para la restricciones de maximo 6 dias, Por lo que esta suma debe ser ≤ 6 (valor de max_tomas_por_dia).\n",
        "\n",
        "Mientras que para los actores que coincidian en las tomas, se determino que si un actor participa en varias tomas, deben asignarse al mismo día para minimizar su número de días de trabajo.\n",
        "\n"
      ],
      "metadata": {
        "id": "nuxCTO4Y5Rl-"
      }
    },
    {
      "cell_type": "markdown",
      "source": [
        "Ahora desarrollamos el Código"
      ],
      "metadata": {
        "id": "EcRsIzJv4-k7"
      }
    },
    {
      "cell_type": "code",
      "source": [
        "from google.colab import files\n",
        "uploaded = files.upload()\n"
      ],
      "metadata": {
        "colab": {
          "base_uri": "https://localhost:8080/",
          "height": 74
        },
        "id": "E-ZyGY7CrmFB",
        "outputId": "5950fe8e-6caf-40a5-8fc6-76b97095a7dd"
      },
      "execution_count": 26,
      "outputs": [
        {
          "output_type": "display_data",
          "data": {
            "text/plain": [
              "<IPython.core.display.HTML object>"
            ],
            "text/html": [
              "\n",
              "     <input type=\"file\" id=\"files-2264c85d-81a2-40f4-8780-64bbbc69dd6f\" name=\"files[]\" multiple disabled\n",
              "        style=\"border:none\" />\n",
              "     <output id=\"result-2264c85d-81a2-40f4-8780-64bbbc69dd6f\">\n",
              "      Upload widget is only available when the cell has been executed in the\n",
              "      current browser session. Please rerun this cell to enable.\n",
              "      </output>\n",
              "      <script>// Copyright 2017 Google LLC\n",
              "//\n",
              "// Licensed under the Apache License, Version 2.0 (the \"License\");\n",
              "// you may not use this file except in compliance with the License.\n",
              "// You may obtain a copy of the License at\n",
              "//\n",
              "//      http://www.apache.org/licenses/LICENSE-2.0\n",
              "//\n",
              "// Unless required by applicable law or agreed to in writing, software\n",
              "// distributed under the License is distributed on an \"AS IS\" BASIS,\n",
              "// WITHOUT WARRANTIES OR CONDITIONS OF ANY KIND, either express or implied.\n",
              "// See the License for the specific language governing permissions and\n",
              "// limitations under the License.\n",
              "\n",
              "/**\n",
              " * @fileoverview Helpers for google.colab Python module.\n",
              " */\n",
              "(function(scope) {\n",
              "function span(text, styleAttributes = {}) {\n",
              "  const element = document.createElement('span');\n",
              "  element.textContent = text;\n",
              "  for (const key of Object.keys(styleAttributes)) {\n",
              "    element.style[key] = styleAttributes[key];\n",
              "  }\n",
              "  return element;\n",
              "}\n",
              "\n",
              "// Max number of bytes which will be uploaded at a time.\n",
              "const MAX_PAYLOAD_SIZE = 100 * 1024;\n",
              "\n",
              "function _uploadFiles(inputId, outputId) {\n",
              "  const steps = uploadFilesStep(inputId, outputId);\n",
              "  const outputElement = document.getElementById(outputId);\n",
              "  // Cache steps on the outputElement to make it available for the next call\n",
              "  // to uploadFilesContinue from Python.\n",
              "  outputElement.steps = steps;\n",
              "\n",
              "  return _uploadFilesContinue(outputId);\n",
              "}\n",
              "\n",
              "// This is roughly an async generator (not supported in the browser yet),\n",
              "// where there are multiple asynchronous steps and the Python side is going\n",
              "// to poll for completion of each step.\n",
              "// This uses a Promise to block the python side on completion of each step,\n",
              "// then passes the result of the previous step as the input to the next step.\n",
              "function _uploadFilesContinue(outputId) {\n",
              "  const outputElement = document.getElementById(outputId);\n",
              "  const steps = outputElement.steps;\n",
              "\n",
              "  const next = steps.next(outputElement.lastPromiseValue);\n",
              "  return Promise.resolve(next.value.promise).then((value) => {\n",
              "    // Cache the last promise value to make it available to the next\n",
              "    // step of the generator.\n",
              "    outputElement.lastPromiseValue = value;\n",
              "    return next.value.response;\n",
              "  });\n",
              "}\n",
              "\n",
              "/**\n",
              " * Generator function which is called between each async step of the upload\n",
              " * process.\n",
              " * @param {string} inputId Element ID of the input file picker element.\n",
              " * @param {string} outputId Element ID of the output display.\n",
              " * @return {!Iterable<!Object>} Iterable of next steps.\n",
              " */\n",
              "function* uploadFilesStep(inputId, outputId) {\n",
              "  const inputElement = document.getElementById(inputId);\n",
              "  inputElement.disabled = false;\n",
              "\n",
              "  const outputElement = document.getElementById(outputId);\n",
              "  outputElement.innerHTML = '';\n",
              "\n",
              "  const pickedPromise = new Promise((resolve) => {\n",
              "    inputElement.addEventListener('change', (e) => {\n",
              "      resolve(e.target.files);\n",
              "    });\n",
              "  });\n",
              "\n",
              "  const cancel = document.createElement('button');\n",
              "  inputElement.parentElement.appendChild(cancel);\n",
              "  cancel.textContent = 'Cancel upload';\n",
              "  const cancelPromise = new Promise((resolve) => {\n",
              "    cancel.onclick = () => {\n",
              "      resolve(null);\n",
              "    };\n",
              "  });\n",
              "\n",
              "  // Wait for the user to pick the files.\n",
              "  const files = yield {\n",
              "    promise: Promise.race([pickedPromise, cancelPromise]),\n",
              "    response: {\n",
              "      action: 'starting',\n",
              "    }\n",
              "  };\n",
              "\n",
              "  cancel.remove();\n",
              "\n",
              "  // Disable the input element since further picks are not allowed.\n",
              "  inputElement.disabled = true;\n",
              "\n",
              "  if (!files) {\n",
              "    return {\n",
              "      response: {\n",
              "        action: 'complete',\n",
              "      }\n",
              "    };\n",
              "  }\n",
              "\n",
              "  for (const file of files) {\n",
              "    const li = document.createElement('li');\n",
              "    li.append(span(file.name, {fontWeight: 'bold'}));\n",
              "    li.append(span(\n",
              "        `(${file.type || 'n/a'}) - ${file.size} bytes, ` +\n",
              "        `last modified: ${\n",
              "            file.lastModifiedDate ? file.lastModifiedDate.toLocaleDateString() :\n",
              "                                    'n/a'} - `));\n",
              "    const percent = span('0% done');\n",
              "    li.appendChild(percent);\n",
              "\n",
              "    outputElement.appendChild(li);\n",
              "\n",
              "    const fileDataPromise = new Promise((resolve) => {\n",
              "      const reader = new FileReader();\n",
              "      reader.onload = (e) => {\n",
              "        resolve(e.target.result);\n",
              "      };\n",
              "      reader.readAsArrayBuffer(file);\n",
              "    });\n",
              "    // Wait for the data to be ready.\n",
              "    let fileData = yield {\n",
              "      promise: fileDataPromise,\n",
              "      response: {\n",
              "        action: 'continue',\n",
              "      }\n",
              "    };\n",
              "\n",
              "    // Use a chunked sending to avoid message size limits. See b/62115660.\n",
              "    let position = 0;\n",
              "    do {\n",
              "      const length = Math.min(fileData.byteLength - position, MAX_PAYLOAD_SIZE);\n",
              "      const chunk = new Uint8Array(fileData, position, length);\n",
              "      position += length;\n",
              "\n",
              "      const base64 = btoa(String.fromCharCode.apply(null, chunk));\n",
              "      yield {\n",
              "        response: {\n",
              "          action: 'append',\n",
              "          file: file.name,\n",
              "          data: base64,\n",
              "        },\n",
              "      };\n",
              "\n",
              "      let percentDone = fileData.byteLength === 0 ?\n",
              "          100 :\n",
              "          Math.round((position / fileData.byteLength) * 100);\n",
              "      percent.textContent = `${percentDone}% done`;\n",
              "\n",
              "    } while (position < fileData.byteLength);\n",
              "  }\n",
              "\n",
              "  // All done.\n",
              "  yield {\n",
              "    response: {\n",
              "      action: 'complete',\n",
              "    }\n",
              "  };\n",
              "}\n",
              "\n",
              "scope.google = scope.google || {};\n",
              "scope.google.colab = scope.google.colab || {};\n",
              "scope.google.colab._files = {\n",
              "  _uploadFiles,\n",
              "  _uploadFilesContinue,\n",
              "};\n",
              "})(self);\n",
              "</script> "
            ]
          },
          "metadata": {}
        },
        {
          "output_type": "stream",
          "name": "stdout",
          "text": [
            "Saving Datos.csv to Datos.csv\n"
          ]
        }
      ]
    },
    {
      "cell_type": "code",
      "source": [
        "import pandas as pd\n",
        "from pulp import LpMinimize, LpProblem, LpVariable, lpSum\n",
        "\n",
        "# Cargar datos desde el archivo CSV\n",
        "\n",
        "df = pd.read_csv('Datos.csv')  # Cargar manteniendo encabezados\n",
        "\n",
        "# Extraer datos de nuestro archivo CSV\n",
        "tomas_actores = df.iloc[:, 1:].values\n",
        "\n",
        "\n",
        " # Número total de tomas\n",
        "numero_tomas = tomas_actores.shape[0]\n",
        "print('Número de Tomas:' , numero_tomas)\n",
        "# Número total de actores\n",
        "numero_actores = tomas_actores.shape[1]\n",
        "print('Número de Actores:' , num_actores)\n",
        "# Máximo de tomas maximas por día\n",
        "max_tomas_por_dia = 6\n",
        " # Máximo de días posibles por actor\n",
        "num_dias_max = (numero_tomas // max_tomas_por_dia) + 1\n",
        "print('Máximo de días posibles:' , num_dias_max)\n",
        "\n",
        "# Definimos el modelo del problema de optimización\n",
        "modelo = LpProblem(\"Minimizar_dias_doblaje\", LpMinimize)\n",
        "\n",
        "# Variables de decisión:\n",
        "# x[t, d] = 1 si la toma t se graba el día d, 0 en caso contrario\n",
        "x = {(t, d): LpVariable(f\"x_{t}_{d}\", cat=\"Binary\") for t in range(numero_tomas) for d in range(num_dias_max)}\n",
        "\n",
        "# Variables binarias para saber si un día es utilizado\n",
        "y = {d: LpVariable(f\"y_{d}\", cat=\"Binary\") for d in range(num_dias_max)}\n",
        "\n",
        "# Restricción: cada toma debe ser grabada exactamente una vez\n",
        "for t in range(numero_tomas):\n",
        "    modelo += lpSum(x[t, d] for d in range(num_dias_max)) == 1\n",
        "\n",
        "# Restricción: no más de 6 tomas por día\n",
        "for d in range(num_dias_max):\n",
        "    modelo += lpSum(x[t, d] for t in range(num_tomas)) <= max_tomas_por_dia * y[d]\n",
        "\n",
        "# Restricción: los actores deben coincidir en las tomas asignadas al mismo día\n",
        "for a in range(numero_actores):\n",
        "    for d in range(num_dias_max):\n",
        "        modelo += lpSum(x[t, d] * tomas_actores[t, a] for t in range(numero_tomas)) <= max_tomas_por_dia\n",
        "\n",
        "# Función objetivo: minimizar el número de días utilizados\n",
        "modelo += lpSum(y[d] for d in range(num_dias_max))\n",
        "\n",
        "# Resultado del modelo\n",
        "modelo.solve()\n",
        "\n",
        "# Mostramos los resultados del modelo\n",
        "print(\"Días utilizados:\", sum(y[d].varValue for d in range(num_dias_max)))\n",
        "for t in range(numero_tomas):\n",
        "    for d in range(num_dias_max):\n",
        "        if x[t, d].varValue == 1:\n",
        "            print(f\"Toma {df.iloc[t, 0]} se graba el día {d + 1}\")\n"
      ],
      "metadata": {
        "colab": {
          "base_uri": "https://localhost:8080/"
        },
        "id": "bskYCIv_p6it",
        "outputId": "55061c03-8f37-4e1a-9df5-943ec510f68d"
      },
      "execution_count": 34,
      "outputs": [
        {
          "output_type": "stream",
          "name": "stdout",
          "text": [
            "Número de Tomas: 30\n",
            "Número de Actores: 10\n",
            "Máximo de días posibles: 6\n",
            "Días utilizados: 5.0\n",
            "Toma 1 se graba el día 5\n",
            "Toma 2 se graba el día 3\n",
            "Toma 3 se graba el día 3\n",
            "Toma 4 se graba el día 3\n",
            "Toma 5 se graba el día 2\n",
            "Toma 6 se graba el día 2\n",
            "Toma 7 se graba el día 3\n",
            "Toma 8 se graba el día 3\n",
            "Toma 9 se graba el día 1\n",
            "Toma 10 se graba el día 1\n",
            "Toma 11 se graba el día 5\n",
            "Toma 12 se graba el día 5\n",
            "Toma 13 se graba el día 5\n",
            "Toma 14 se graba el día 5\n",
            "Toma 15 se graba el día 4\n",
            "Toma 16 se graba el día 4\n",
            "Toma 17 se graba el día 4\n",
            "Toma 18 se graba el día 4\n",
            "Toma 19 se graba el día 4\n",
            "Toma 20 se graba el día 4\n",
            "Toma 21 se graba el día 1\n",
            "Toma 22 se graba el día 1\n",
            "Toma 23 se graba el día 1\n",
            "Toma 24 se graba el día 1\n",
            "Toma 25 se graba el día 2\n",
            "Toma 26 se graba el día 2\n",
            "Toma 27 se graba el día 2\n",
            "Toma 28 se graba el día 3\n",
            "Toma 29 se graba el día 5\n",
            "Toma 30 se graba el día 2\n"
          ]
        }
      ]
    },
    {
      "cell_type": "markdown",
      "source": [
        "#Análisis\n",
        "- ¿Que complejidad tiene el problema?. Orden de complejidad y Contabilizar el espacio de soluciones"
      ],
      "metadata": {
        "id": "HZz52wOppp-U"
      }
    },
    {
      "cell_type": "markdown",
      "source": [
        "Este problema es una optimización combinatoria con un crecimiento exponencial en el peor de los casos.\n",
        "            \n",
        "            o(2^N)"
      ],
      "metadata": {
        "id": "_fMP8Z1T3A9m"
      }
    },
    {
      "cell_type": "markdown",
      "source": [],
      "metadata": {
        "id": "WyRv9rFR3Av2"
      }
    },
    {
      "cell_type": "markdown",
      "source": [
        "#Diseño\n",
        "- ¿Que técnica utilizo? ¿Por qué?\n",
        "\n"
      ],
      "metadata": {
        "id": "ixEJUwH_pv7M"
      }
    },
    {
      "cell_type": "markdown",
      "source": [
        "PuLP es una librería de Python utilizada para modelar y resolver problemas de optimización mediante programación lineal, lo cual incluye soporte para problemas de maximización y minimización con restricciones.  \n",
        "\n",
        "PuLP permite indicar el tipo de problema que hay que optimizar mediante palabras reservadas de la propia librería, maximización (LpMaximize) o minimización (LPMinimize), que deberán usarse cuando comenzamos a definirlo. Además, incluye soporte base para todos y cada uno de los elementos básicos de un problema de optimización:\n",
        "\n",
        "- Variables (LpVariable)\n",
        "- Función objetivo\n",
        "- Restricciones o constraints\n",
        "\n",
        "Por lo que es perfecta para el desarrollo de nuestro problema en la que necesitamos minimizar el número de días de las tomas, tratando de que el presupuesto gastado por actores sea el mismo y que estos coincidan de acuerdo a las tomas que se deben hacer el dia respectivo."
      ],
      "metadata": {
        "id": "hucvy1FizPzw"
      }
    }
  ]
}